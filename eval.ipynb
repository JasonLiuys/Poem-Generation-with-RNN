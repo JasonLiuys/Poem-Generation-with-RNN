{
 "cells": [
  {
   "cell_type": "code",
   "execution_count": 1,
   "metadata": {
    "ExecuteTime": {
     "end_time": "2019-05-09T12:54:30.672011Z",
     "start_time": "2019-05-09T12:54:28.437818Z"
    }
   },
   "outputs": [
    {
     "name": "stdout",
     "output_type": "stream",
     "text": [
      "WARNING:tensorflow:From /notebooks/Generate_Poem_with_RNN/model.py:127: BasicLSTMCell.__init__ (from tensorflow.python.ops.rnn_cell_impl) is deprecated and will be removed in a future version.\n",
      "Instructions for updating:\n",
      "This class is deprecated, please use tf.nn.rnn_cell.LSTMCell, which supports all the feature this cell currently has. Please replace the existing code with tf.nn.rnn_cell.LSTMCell(name='basic_lstm_cell').\n"
     ]
    }
   ],
   "source": [
    "import tensorflow as tf\n",
    "import numpy as np\n",
    "from model import EvalModel\n",
    "import os\n",
    "import pickle\n",
    "from random import choice\n",
    "\n",
    "# #指定验证时不使用cuda，这样可以在用gpu训练的同时，使用cpu进行验证\n",
    "# os.environ['CUDA_VISIBLE_DEVICES'] = ''\n",
    "\n",
    "x_data = tf.placeholder(tf.int32, [1, None])\n",
    "\n",
    "emb_keep = tf.placeholder(tf.float32)\n",
    "\n",
    "rnn_keep = tf.placeholder(tf.float32)\n",
    "\n",
    "# 验证用模型\n",
    "model = EvalModel(x_data, emb_keep, rnn_keep)\n",
    "\n",
    "saver = tf.train.Saver()\n",
    "# 单词到id的映射\n",
    "w2id , id2w = pickle.load(open('data/w2id_id2w.pkl' , 'rb'))  #词汇表"
   ]
  },
  {
   "cell_type": "code",
   "execution_count": 2,
   "metadata": {
    "ExecuteTime": {
     "end_time": "2019-05-09T12:54:30.680177Z",
     "start_time": "2019-05-09T12:54:30.675365Z"
    }
   },
   "outputs": [],
   "source": [
    "def generate_word(prob):\n",
    "    \"\"\"\n",
    "    选择概率最高的前100个词，并采样选取最终结果\n",
    "    :param prob: 概率向量\n",
    "    :return: 生成的词\n",
    "    \"\"\"\n",
    "    prob = sorted(prob, reverse=True)[:100]\n",
    "    index = np.searchsorted(np.cumsum(prob), np.random.rand(1) * np.sum(prob))\n",
    "    return id2w[int(index)]"
   ]
  },
  {
   "cell_type": "code",
   "execution_count": 3,
   "metadata": {
    "ExecuteTime": {
     "end_time": "2019-05-09T12:54:30.687416Z",
     "start_time": "2019-05-09T12:54:30.682530Z"
    }
   },
   "outputs": [],
   "source": [
    "def generate_first_word():  #随机生成第一个字\n",
    "    X_indices = pickle.load(open('data/index.pkl','rb'))    \n",
    "    first_word = ([id2w[choice(X_indices)[0]]])\n",
    "#     print(first_word)\n",
    "    return first_word[0]"
   ]
  },
  {
   "cell_type": "code",
   "execution_count": 4,
   "metadata": {
    "ExecuteTime": {
     "end_time": "2019-05-09T12:54:30.708742Z",
     "start_time": "2019-05-09T12:54:30.694061Z"
    }
   },
   "outputs": [],
   "source": [
    "def generate_poem():\n",
    "    \"\"\"\n",
    "    随机生成一首诗歌\n",
    "    :return:\n",
    "    \"\"\"\n",
    "    with tf.Session() as sess:\n",
    "        # 加载最新的模型\n",
    "        ckpt = tf.train.get_checkpoint_state('ckpt')\n",
    "        saver.restore(sess, ckpt.model_checkpoint_path)\n",
    "        # 预测第一个词\n",
    "        first_word = generate_first_word() #随机生成第一个字\n",
    "        rnn_state = sess.run(model.cell.zero_state(1, tf.float32))\n",
    "        x = np.array([[w2id[first_word]]], np.int32)\n",
    "        prob, rnn_state = sess.run([model.prob, model.last_state],\n",
    "                                   {model.data: x, model.init_state: rnn_state, model.emb_keep: 1.0,\n",
    "                                    model.rnn_keep: 1.0})\n",
    "        word = generate_word(prob)\n",
    "        poem = ''\n",
    "        # 循环操作，直到预测出结束符号‘e’\n",
    "        while word != '<EOS>':\n",
    "            poem += word\n",
    "            x = np.array([[w2id[word]]])\n",
    "            prob, rnn_state = sess.run([model.prob, model.last_state],\n",
    "                                       {model.data: x, model.init_state: rnn_state, model.emb_keep: 1.0,\n",
    "                                        model.rnn_keep: 1.0})\n",
    "            word = generate_word(prob)\n",
    "        # 打印生成的诗歌\n",
    "        print (first_word + poem)"
   ]
  },
  {
   "cell_type": "code",
   "execution_count": 5,
   "metadata": {
    "ExecuteTime": {
     "end_time": "2019-05-09T12:54:32.946099Z",
     "start_time": "2019-05-09T12:54:30.712739Z"
    }
   },
   "outputs": [
    {
     "name": "stdout",
     "output_type": "stream",
     "text": [
      "INFO:tensorflow:Restoring parameters from ckpt/model_ckpt-29901\n",
      "耆从不可不，卦地怨遗翁。独在为微令，天风此荫笼。\n"
     ]
    }
   ],
   "source": [
    "if __name__ == '__main__':\n",
    "    generate_poem()"
   ]
  }
 ],
 "metadata": {
  "kernelspec": {
   "display_name": "Python 3",
   "language": "python",
   "name": "python3"
  },
  "language_info": {
   "codemirror_mode": {
    "name": "ipython",
    "version": 3
   },
   "file_extension": ".py",
   "mimetype": "text/x-python",
   "name": "python",
   "nbconvert_exporter": "python",
   "pygments_lexer": "ipython3",
   "version": "3.5.2"
  },
  "toc": {
   "base_numbering": 1,
   "nav_menu": {},
   "number_sections": true,
   "sideBar": true,
   "skip_h1_title": false,
   "title_cell": "Table of Contents",
   "title_sidebar": "Contents",
   "toc_cell": false,
   "toc_position": {},
   "toc_section_display": true,
   "toc_window_display": false
  }
 },
 "nbformat": 4,
 "nbformat_minor": 2
}
